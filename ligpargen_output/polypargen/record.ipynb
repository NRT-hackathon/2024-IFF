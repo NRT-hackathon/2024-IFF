{
 "cells": [
  {
   "cell_type": "markdown",
   "metadata": {},
   "source": [
    "# Polymer generation in ligpargen"
   ]
  },
  {
   "cell_type": "markdown",
   "metadata": {},
   "source": [
    "Previous implementation tried to edit the forcefield to include the PET monomer. I could not get this to work although given more time, I'm sure I could get it to work. To rectify this situation, I used the website [polypargen](http://polypargen.com/) which extended ligpargen to polymers. To use it, you can either draw a polymer or upload a polymer structure in a `.cml` (chemical markdown language) format. \n",
    "\n",
    "I opted to do the former by drawing the PET structure on [maxon.js](https://marvinjs-demo.chemaxon.com/latest/demo.html), an online chemical structure drawing tool. I drew a PET chain with 50 repeat units. I found that the structure could not be read by polypargen. To rectify this, I downloaded the program [avogadro](https://avogadro.cc/) and opened the `.cml` from maxon.js to verify its integrity. After opening it in avogadro and saving it as a `.cml`, polypargen accepted the input and output the `.gro`, `.itp` and `.lmp` file for the polymer. For our purpose, we only need the `.gro` and `.itp` files for gromacs input"
   ]
  },
  {
   "cell_type": "markdown",
   "metadata": {},
   "source": []
  }
 ],
 "metadata": {
  "language_info": {
   "name": "python"
  }
 },
 "nbformat": 4,
 "nbformat_minor": 2
}

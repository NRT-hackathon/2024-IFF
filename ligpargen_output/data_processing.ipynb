{
 "cells": [
  {
   "cell_type": "code",
   "execution_count": 2,
   "metadata": {},
   "outputs": [
    {
     "name": "stderr",
     "output_type": "stream",
     "text": [
      "/home/nkarthi/.local/lib/python3.10/site-packages/matplotlib/projections/__init__.py:63: UserWarning: Unable to import Axes3D. This may be due to multiple versions of Matplotlib being installed (e.g. as a system package and as a pip package). As a result, the 3D projection is not available.\n",
      "  warnings.warn(\"Unable to import Axes3D. This may be due to multiple versions of \"\n"
     ]
    }
   ],
   "source": [
    "import numpy as np\n",
    "import matplotlib.pyplot as plt\n",
    "import MDAnalysis as mda\n",
    "from MDAnalysis.analysis import rdf, msd # diffusion\n",
    "from MDAnalysis.analysis.hydrogenbonds.hbond_analysis import HydrogenBondAnalysis as HBA\n",
    "import pwlf"
   ]
  },
  {
   "cell_type": "code",
   "execution_count": 128,
   "metadata": {},
   "outputs": [],
   "source": [
    "malodour = \"ETB\"\n",
    "polymer = \"PET\"\n",
    "solvent = \"SOL\"\n",
    "path = f\"/home/nkarthi/classes/IFF_fiber_wetting/ligpargen_output/single_PET_with_{malodour}\"\n",
    "# path = f\"/home/nkarthi/classes/IFF_fiber_wetting/ligpargen_output/polypargen\""
   ]
  },
  {
   "cell_type": "markdown",
   "metadata": {},
   "source": [
    "# Import `xvg`"
   ]
  },
  {
   "cell_type": "code",
   "execution_count": 129,
   "metadata": {},
   "outputs": [
    {
     "data": {
      "text/plain": [
       "<function TextIOWrapper.close()>"
      ]
     },
     "execution_count": 129,
     "metadata": {},
     "output_type": "execute_result"
    }
   ],
   "source": [
    "f = open(path + \"/msd.xvg\", 'r')\n",
    "text = f.readlines()\n",
    "f.close"
   ]
  },
  {
   "cell_type": "code",
   "execution_count": 130,
   "metadata": {},
   "outputs": [],
   "source": [
    "data = []\n",
    "\n",
    "for ls in text:\n",
    "    curr_ls = ls.split()\n",
    "    try:\n",
    "        float(curr_ls[0])\n",
    "        data.append(curr_ls)\n",
    "    except:\n",
    "        continue\n",
    "\n",
    "data = np.array(data).astype(float)"
   ]
  },
  {
   "cell_type": "code",
   "execution_count": 131,
   "metadata": {},
   "outputs": [
    {
     "name": "stderr",
     "output_type": "stream",
     "text": [
      "/tmp/ipykernel_246167/538313631.py:6: RuntimeWarning: divide by zero encountered in log10\n",
      "  idxs = np.isfinite(np.log10(x))\n"
     ]
    }
   ],
   "source": [
    "tau = data[:, 0]\n",
    "mal = data[:, 1]\n",
    "poly = data[:, 2]\n",
    "sol = data[:, 3]\n",
    "\n",
    "idxs = np.isfinite(np.log10(x))\n",
    "\n",
    "tau = np.log10(x[idxs])\n",
    "mal = np.log10(mal[idxs])\n",
    "poly = np.log10(poly[idxs])\n",
    "sol = np.log10(sol[idxs])"
   ]
  },
  {
   "cell_type": "code",
   "execution_count": 144,
   "metadata": {},
   "outputs": [
    {
     "name": "stdout",
     "output_type": "stream",
     "text": [
      "[0.73363802 0.83338947]\n"
     ]
    }
   ],
   "source": [
    "nseg = 2\n",
    "\n",
    "msd = mal \n",
    "# msd = poly\n",
    "# msd = sol\n",
    "\n",
    "my_pwlf = pwlf.PiecewiseLinFit(tau, msd, seed = 1234)\n",
    "res = my_pwlf.fit(nseg)\n",
    "xHat = np.linspace(min(tau), max(tau), num=10000)\n",
    "yHat = my_pwlf.predict(xHat)\n",
    "breaks = my_pwlf.fit_breaks\n",
    "slopes = my_pwlf.slopes\n",
    "print(slopes)"
   ]
  },
  {
   "cell_type": "code",
   "execution_count": 145,
   "metadata": {},
   "outputs": [
    {
     "data": {
      "text/plain": [
       "<matplotlib.legend.Legend at 0x7fb068144940>"
      ]
     },
     "execution_count": 145,
     "metadata": {},
     "output_type": "execute_result"
    },
    {
     "data": {
      "image/png": "[encoded data removed]",
      "text/plain": [
       "<Figure size 640x480 with 1 Axes>"
      ]
     },
     "metadata": {},
     "output_type": "display_data"
    }
   ],
   "source": [
    "plt.plot(tau, msd, label = \"raw data\")\n",
    "plt.plot(xHat, yHat, label = \"fit data\")\n",
    "\n",
    "plt.plot([breaks[1], breaks[1]], [msd.min(), msd.max()], 'k--')\n",
    "# plt.plot(tau, poly, label = \"PET\")\n",
    "# plt.plot(tau, sol, label = \"Water\")\n",
    "\n",
    "plt.legend()"
   ]
  },
  {
   "cell_type": "markdown",
   "metadata": {},
   "source": [
    "# Data import"
   ]
  },
  {
   "cell_type": "code",
   "execution_count": 56,
   "metadata": {},
   "outputs": [],
   "source": [
    "u = mda.Universe(path + \"/md_1.gro\", path + '/md_1.trr')"
   ]
  },
  {
   "cell_type": "code",
   "execution_count": 50,
   "metadata": {},
   "outputs": [],
   "source": [
    "mal_atoms = u.select_atoms(f\"resname {malodour}\")\n",
    "pol_atoms = u.select_atoms(f\"resname {polymer}\")\n",
    "sol_atoms = u.select_atoms(f\"resname {solvent}\")"
   ]
  },
  {
   "cell_type": "markdown",
   "metadata": {},
   "source": [
    "## MSD"
   ]
  },
  {
   "cell_type": "code",
   "execution_count": 51,
   "metadata": {},
   "outputs": [
    {
     "name": "stderr",
     "output_type": "stream",
     "text": [
      "100%|██████████| 1700/1700 [00:00<00:00, 6595.52it/s]\n",
      "100%|██████████| 1250/1250 [00:00<00:00, 7228.27it/s]\n"
     ]
    },
    {
     "data": {
      "text/plain": [
       "<MDAnalysis.analysis.msd.EinsteinMSD at 0x7fd455471240>"
      ]
     },
     "execution_count": 51,
     "metadata": {},
     "output_type": "execute_result"
    }
   ],
   "source": [
    "msd_analysis_mal = msd.EinsteinMSD(u, select = f\"resname {malodour}\")\n",
    "msd_analysis_pol = msd.EinsteinMSD(u, select = f\"resname {polymer}\")\n",
    "# msd_analysis = msd.EinsteinMSD(u, select = \"all\")\n",
    "msd_analysis_mal.run()\n",
    "msd_analysis_pol.run()"
   ]
  },
  {
   "cell_type": "code",
   "execution_count": 52,
   "metadata": {},
   "outputs": [
    {
     "name": "stderr",
     "output_type": "stream",
     "text": [
      "/tmp/ipykernel_42037/4213664807.py:7: RuntimeWarning: divide by zero encountered in log10\n",
      "  idxs = np.isfinite(np.log10(x))\n",
      "/tmp/ipykernel_42037/4213664807.py:11: RuntimeWarning: divide by zero encountered in log10\n",
      "  idxs = np.isfinite(np.log10(x2))\n"
     ]
    }
   ],
   "source": [
    "x = msd_analysis_mal.times # in ps\n",
    "y = msd_analysis_mal.results['timeseries'] # Angstrom\n",
    "\n",
    "x2 = msd_analysis_pol.times # in ps\n",
    "y2 = msd_analysis_pol.results['timeseries'] # Angstrom\n",
    "\n",
    "idxs = np.isfinite(np.log10(x))\n",
    "x = np.log10(x[idxs])\n",
    "y = np.log10(y[idxs])\n",
    "\n",
    "idxs = np.isfinite(np.log10(x2))\n",
    "x2 = np.log10(x2[idxs])\n",
    "y2 = np.log10(y2[idxs])\n",
    "\n",
    "# nseg = 4\n",
    "# my_pwlf = pwlf.PiecewiseLinFit(x, y, seed = 1234)\n",
    "# res = my_pwlf.fit(nseg)\n",
    "# xHat = np.linspace(min(x), max(x), num=10000)\n",
    "# yHat = my_pwlf.predict(xHat)\n",
    "# breaks = my_pwlf.fit_breaks\n",
    "# slopes = my_pwlf.slopes"
   ]
  },
  {
   "cell_type": "code",
   "execution_count": 53,
   "metadata": {},
   "outputs": [],
   "source": [
    "MSD_log = \"{0:10s} {1:3f} {2:3f}\\n\"\n",
    "\n",
    "# str_out = \"MSD fit break points and exponents\\n\"\n",
    "str_out = \"{0:^10s} {1:^6s} {2:^10s}\\n\".format(\"Segment\", \"break\", 'slope')\n",
    "\n",
    "for i in range(nseg):\n",
    "    col1 = f\"Segment {i + 1}\"\n",
    "    col2 = breaks[i + 1]\n",
    "    col3 = slopes[i]\n",
    "    str_out += MSD_log.format(col1, col2, col3)\n",
    "\n",
    "f = open(path + '/processed_MSD-log.txt', 'w')\n",
    "f.write(str_out)\n",
    "f.close()"
   ]
  },
  {
   "cell_type": "code",
   "execution_count": 54,
   "metadata": {},
   "outputs": [
    {
     "data": {
      "text/plain": [
       "[<matplotlib.lines.Line2D at 0x7fd456fcde40>]"
      ]
     },
     "execution_count": 54,
     "metadata": {},
     "output_type": "execute_result"
    },
    {
     "data": {
      "image/png": "[encoded data removed]",
      "text/plain": [
       "<Figure size 625x500 with 1 Axes>"
      ]
     },
     "metadata": {},
     "output_type": "display_data"
    }
   ],
   "source": [
    "sz = 5\n",
    "ar = 1.25\n",
    "\n",
    "fig, ax = plt.subplots(1, 1, figsize = (sz*ar, sz))\n",
    "ax.plot(x, y, \"o\", markerfacecolor = 'None', color = 'blue', label = 'Raw data')\n",
    "ax.plot(x2, y2, \"^\", markerfacecolor = 'None', color = 'red', label = 'Raw data')\n",
    "\n",
    "# ax.plot(xHat, yHat, linestyle = '-', color = 'red', lw = 2, label = 'fit data')\n",
    "\n",
    "# for i in range(1, len(breaks) - 1):\n",
    "#     ax.plot([breaks[i], breaks[i]], [y.min(), y.max()], 'k--', lw = 1)\n",
    "#     # ax.text((breaks[i] - breaks[i - 1])/2 + breaks[i - 1], 3, f\"a = {slopes[i - 1]:.3f}\")\n",
    "\n",
    "# ax.set_xlabel(r\"$\\log_{10}{Time (ps)}$\")\n",
    "# ax.set_ylabel(r\"$\\log_{10}{ MSD (\\AA) }$\")\n",
    "# ax.legend(loc = 'upper left')\n",
    "# fig.savefig(path + \"/processed_MSD.svg\")"
   ]
  },
  {
   "cell_type": "code",
   "execution_count": null,
   "metadata": {},
   "outputs": [],
   "source": []
  }
 ],
 "metadata": {
  "kernelspec": {
   "display_name": "Python 3",
   "language": "python",
   "name": "python3"
  },
  "language_info": {
   "codemirror_mode": {
    "name": "ipython",
    "version": 3
   },
   "file_extension": ".py",
   "mimetype": "text/x-python",
   "name": "python",
   "nbconvert_exporter": "python",
   "pygments_lexer": "ipython3",
   "version": "3.10.12"
  }
 },
 "nbformat": 4,
 "nbformat_minor": 2
}

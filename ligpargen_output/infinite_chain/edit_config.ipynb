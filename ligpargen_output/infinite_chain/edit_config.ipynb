{
 "cells": [
  {
   "cell_type": "code",
   "execution_count": 36,
   "metadata": {},
   "outputs": [],
   "source": [
    "import numpy as np"
   ]
  },
  {
   "cell_type": "code",
   "execution_count": 37,
   "metadata": {},
   "outputs": [],
   "source": [
    "atom_ids_to_remove = [632, 699, 1044]\n",
    "\n",
    "all_idxs = np.linspace(1, 1103, 1103, dtype = int)\n",
    "\n",
    "d_map = {}\n",
    "\n",
    "for i, idx in enumerate(all_idxs):\n",
    "    if idx >= 1044:\n",
    "        idx -= 3\n",
    "    elif idx >= 699:\n",
    "        idx -= 2\n",
    "    elif idx >= 632:\n",
    "        idx -= 1\n",
    "\n",
    "    d_map[str(i + 1)] = str(idx)"
   ]
  },
  {
   "cell_type": "code",
   "execution_count": 38,
   "metadata": {},
   "outputs": [],
   "source": [
    "f = open(\"edit_PET.gro\", 'r')\n",
    "gro_file = f.readlines()\n",
    "f.close()"
   ]
  },
  {
   "cell_type": "code",
   "execution_count": 39,
   "metadata": {},
   "outputs": [],
   "source": [
    "format_str = \"   {0:>5s}  {1:>5s}{2:>5s}{3:>8s}{4:>8s}{5:>8s}\\n\" # \"%5d%-5s%5s%5d%8.3f%8.3f%8.3f%8.4f%8.4f%8.4f\"\n",
    "\n",
    "output_str = \"\"\n",
    "output_str += gro_file[0]\n",
    "output_str += f\"   {int(gro_file[1]) - 3}\\n\"\n",
    "\n",
    "for i in range(len(gro_file[2:-1])):\n",
    "    test = gro_file[i + 2].split()\n",
    "    test[2] = d_map[test[2]]\n",
    "    output_str += format_str.format(*test)\n",
    "    \n",
    "output_str += gro_file[-1]"
   ]
  },
  {
   "cell_type": "code",
   "execution_count": 40,
   "metadata": {},
   "outputs": [],
   "source": [
    "f = open(\"test_edit_PET.gro\", 'w')\n",
    "f.write(output_str)\n",
    "f.close()"
   ]
  },
  {
   "cell_type": "code",
   "execution_count": 41,
   "metadata": {},
   "outputs": [],
   "source": [
    "f = open(\"edit_PET.itp\", 'r')\n",
    "itp_file = f.read()\n",
    "f.close()"
   ]
  },
  {
   "cell_type": "code",
   "execution_count": 42,
   "metadata": {},
   "outputs": [],
   "source": [
    "def return_sections(text):\n",
    "    labels = ['atoms', 'bonds', 'angles', 'dihedrals', 'pairs']\n",
    "    text_strings = []\n",
    "\n",
    "    for i in range(len(labels) - 1):\n",
    "        start_idx = text.find(labels[i])\n",
    "        start_idx -= 2\n",
    "        end_idx = text.find(labels[i + 1])\n",
    "        end_idx -= 2\n",
    "        text_strings.append(text[start_idx:end_idx])\n",
    "\n",
    "    i += 1\n",
    "    start_idx = text.find(labels[i])\n",
    "    start_idx -= 2\n",
    "    text_strings.append(text[start_idx:])\n",
    "\n",
    "    d = {}\n",
    "    for i in range(len(labels)):\n",
    "        d[labels[i]] = text_strings[i]\n",
    "\n",
    "    return d"
   ]
  },
  {
   "cell_type": "code",
   "execution_count": 43,
   "metadata": {},
   "outputs": [],
   "source": [
    "d_text = return_sections(itp_file)\n",
    "net_charge = -0.411300\n",
    "charge_correct = -1*net_charge/1100"
   ]
  },
  {
   "cell_type": "code",
   "execution_count": 44,
   "metadata": {},
   "outputs": [],
   "source": [
    "atoms = d_text[\"atoms\"]\n",
    "atoms = atoms.split(\"\\n\")\n",
    "\n",
    "format_str = \" {0:>5s}    {1:>5s}  {2:>5s}  {3:>5s}  {4:>5s}  {5:>5s}    {6:>7s}    {7:>7s}\"\n",
    "\n",
    "atom_str = \"\"\n",
    "\n",
    "atom_str += atoms[0] + \"\\n\"\n",
    "atom_str += atoms[1] + \"\\n\"\n",
    "\n",
    "for ls in atoms[2:-2]:\n",
    "    try:\n",
    "        curr_ls = ls.split()\n",
    "        curr_ls[0] = d_map[curr_ls[0]]\n",
    "        curr_ls[6] = str(round(float(curr_ls[6]) + charge_correct, 6))\n",
    "        atom_str += format_str.format(*curr_ls) + \"\\n\"\n",
    "    except:\n",
    "        continue\n",
    "\n",
    "# print(atom_str)"
   ]
  },
  {
   "cell_type": "code",
   "execution_count": 45,
   "metadata": {},
   "outputs": [],
   "source": [
    "bonds = d_text[\"bonds\"]\n",
    "bonds = bonds.split(\"\\n\")\n",
    "\n",
    "format_str = \"{0:>5s} {1:>5s} {2:>5s}      {3:>6s} {4:>6s}\"\n",
    "\n",
    "bonds_str = \"\"\n",
    "\n",
    "bonds_str += bonds[0] + \"\\n\"\n",
    "\n",
    "\n",
    "for ls in bonds[1:]:\n",
    "    try:\n",
    "        curr_ls = ls.split()\n",
    "        curr_ls[0] = d_map[curr_ls[0]]\n",
    "        curr_ls[1] = d_map[curr_ls[1]]\n",
    "        bonds_str += format_str.format(*curr_ls) + \"\\n\"\n",
    "    except:\n",
    "        continue\n",
    "\n",
    "# print(bonds_str)"
   ]
  },
  {
   "cell_type": "code",
   "execution_count": 46,
   "metadata": {},
   "outputs": [],
   "source": [
    "angles = d_text[\"angles\"]\n",
    "angles = angles.split(\"\\n\")\n",
    "\n",
    "format_str = \" {0:>5s}{1:>5s} {2:>5s}{3:>6s}    {4:>6s}    {5:>6s}\"\n",
    "\n",
    "angles_str = \"\"\n",
    "\n",
    "angles_str += angles[0] + \"\\n\"\n",
    "angles_str += angles[1] + \"\\n\"\n",
    "\n",
    "\n",
    "for ls in angles[2:]:\n",
    "    try:\n",
    "        curr_ls = ls.split()\n",
    "        curr_ls[0] = d_map[curr_ls[0]]\n",
    "        curr_ls[1] = d_map[curr_ls[1]]\n",
    "        curr_ls[2] = d_map[curr_ls[2]]\n",
    "        angles_str += format_str.format(*curr_ls) + \"\\n\"\n",
    "    except:\n",
    "        continue\n",
    "\n",
    "# print(angles_str)"
   ]
  },
  {
   "cell_type": "code",
   "execution_count": 47,
   "metadata": {},
   "outputs": [],
   "source": [
    "dihedrals = d_text[\"dihedrals\"]\n",
    "idx_proper = dihedrals.find(\"dihedrals\", 10) - 2"
   ]
  },
  {
   "cell_type": "code",
   "execution_count": 48,
   "metadata": {},
   "outputs": [],
   "source": [
    "improper_dihedrals = dihedrals[:idx_proper]\n",
    "improper_dihedrals = improper_dihedrals.split(\"\\n\")\n",
    "\n",
    "format_str = \" {0:>4s}{1:>5s}{2:>5s}{3:>5s}   {4:>6s}    {5:>8s}  {6:>8s}  {7:>6s}\"\n",
    "\n",
    "im_dihedrals_str = \"\"\n",
    "\n",
    "im_dihedrals_str += improper_dihedrals[0] + \"\\n\"\n",
    "im_dihedrals_str += improper_dihedrals[1] + \"\\n\"\n",
    "im_dihedrals_str += improper_dihedrals[2] + \"\\n\"\n",
    "\n",
    "\n",
    "for ls in improper_dihedrals[3:]:\n",
    "    try:\n",
    "        curr_ls = ls.split()\n",
    "        curr_ls[0] = d_map[curr_ls[0]]\n",
    "        curr_ls[1] = d_map[curr_ls[1]]\n",
    "        curr_ls[2] = d_map[curr_ls[2]]\n",
    "        curr_ls[3] = d_map[curr_ls[3]]\n",
    "        im_dihedrals_str += format_str.format(*curr_ls) + \"\\n\"\n",
    "    except:\n",
    "        continue\n",
    "\n",
    "# print(im_dihedrals_str)"
   ]
  },
  {
   "cell_type": "code",
   "execution_count": 49,
   "metadata": {},
   "outputs": [],
   "source": [
    "proper_dihedrals = dihedrals[idx_proper:]\n",
    "proper_dihedrals = proper_dihedrals.split(\"\\n\")\n",
    "\n",
    "format_str = \" {0:>4s}{1:>5s}{2:>5s}{3:>5s}   {4:>6s}    {5:>8s}  {6:>8s}  {7:>8s}{8:>8s}{9:>8s}{10:>8s}\"\n",
    "\n",
    "dihedrals_str = \"\"\n",
    "\n",
    "dihedrals_str += proper_dihedrals[0] + \"\\n\"\n",
    "dihedrals_str += proper_dihedrals[1] + \"\\n\"\n",
    "dihedrals_str += proper_dihedrals[2] + \"\\n\"\n",
    "\n",
    "\n",
    "for ls in proper_dihedrals[3:]:\n",
    "    try:\n",
    "        curr_ls = ls.split()\n",
    "        curr_ls[0] = d_map[curr_ls[0]]\n",
    "        curr_ls[1] = d_map[curr_ls[1]]\n",
    "        curr_ls[2] = d_map[curr_ls[2]]\n",
    "        curr_ls[3] = d_map[curr_ls[3]]\n",
    "        dihedrals_str += format_str.format(*curr_ls) + \"\\n\"\n",
    "    except:\n",
    "        continue\n",
    "\n",
    "# print(dihedrals_str)"
   ]
  },
  {
   "cell_type": "code",
   "execution_count": 50,
   "metadata": {},
   "outputs": [],
   "source": [
    "pairs = d_text[\"pairs\"]\n",
    "pairs = pairs.split(\"\\n\")\n",
    "\n",
    "format_str = \"{0:>6s}{1:>6s}{2:>5s}\"\n",
    "\n",
    "pairs_str = \"\"\n",
    "\n",
    "pairs_str += pairs[0] + \"\\n\"\n",
    "# pairs_str += pairs[1] + \"\\n\"\n",
    "\n",
    "\n",
    "for ls in pairs[1:]:\n",
    "    try:\n",
    "        curr_ls = ls.split()\n",
    "        curr_ls[0] = d_map[curr_ls[0]]\n",
    "        curr_ls[1] = d_map[curr_ls[1]]\n",
    "        pairs_str += format_str.format(*curr_ls) + \"\\n\"\n",
    "    except:\n",
    "        continue\n",
    "\n",
    "# print(pairs_str)"
   ]
  },
  {
   "cell_type": "code",
   "execution_count": 51,
   "metadata": {},
   "outputs": [],
   "source": [
    "intro_end = itp_file.find('atoms') - 2\n",
    "\n",
    "final_output = \"\"\n",
    "\n",
    "final_output += itp_file[:intro_end]\n",
    "final_output += atom_str + \"\\n\"\n",
    "final_output += bonds_str + \"\\n\"\n",
    "final_output += angles_str + \"\\n\"\n",
    "final_output += im_dihedrals_str + \"\\n\"\n",
    "final_output += dihedrals_str + \"\\n\"\n",
    "final_output += pairs_str + \"\\n\"\n",
    "\n",
    "f = open(\"test_edit_PET.itp\", 'w')\n",
    "f.write(final_output)\n",
    "f.close()"
   ]
  }
 ],
 "metadata": {
  "kernelspec": {
   "display_name": "Python 3",
   "language": "python",
   "name": "python3"
  },
  "language_info": {
   "codemirror_mode": {
    "name": "ipython",
    "version": 3
   },
   "file_extension": ".py",
   "mimetype": "text/x-python",
   "name": "python",
   "nbconvert_exporter": "python",
   "pygments_lexer": "ipython3",
   "version": "3.10.12"
  }
 },
 "nbformat": 4,
 "nbformat_minor": 2
}

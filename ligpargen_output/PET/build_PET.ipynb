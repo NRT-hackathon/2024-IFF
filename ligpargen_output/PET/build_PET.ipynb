{
 "cells": [
  {
   "cell_type": "code",
   "execution_count": 2,
   "metadata": {},
   "outputs": [],
   "source": [
    "import numpy as np"
   ]
  },
  {
   "cell_type": "code",
   "execution_count": 3,
   "metadata": {},
   "outputs": [],
   "source": [
    "mon_L = 1\n",
    "Nseg = 1"
   ]
  },
  {
   "cell_type": "markdown",
   "metadata": {},
   "source": [
    "# Correcting bond numbers"
   ]
  },
  {
   "cell_type": "code",
   "execution_count": 4,
   "metadata": {},
   "outputs": [],
   "source": [
    "def return_sections(text):\n",
    "    labels = ['atoms', 'bonds', 'pairs', 'angles', 'dihedrals']\n",
    "    text_strings = []\n",
    "\n",
    "    for i in range(len(labels) - 1):\n",
    "        start_idx = text.find(labels[i])\n",
    "        start_idx -= 2\n",
    "        end_idx = text.find(labels[i + 1])\n",
    "        end_idx -= 2\n",
    "        text_strings.append(text[start_idx:end_idx])\n",
    "\n",
    "    i += 1\n",
    "    start_idx = text.find(labels[i])\n",
    "    start_idx -= 2\n",
    "    text_strings.append(text[start_idx:])\n",
    "\n",
    "    d = {}\n",
    "    for i in range(len(labels)):\n",
    "        d[labels[i]] = text_strings[i]\n",
    "\n",
    "    return d"
   ]
  },
  {
   "cell_type": "code",
   "execution_count": 5,
   "metadata": {},
   "outputs": [],
   "source": [
    "# End 1 has line 15 and 25 deleted. All entries with 15 or 25 to be deleted\n",
    "f = open('top_files/Ethylene_teraphthalic_acid.txt', \"r\")\n",
    "text = f.read()\n",
    "f.close()\n",
    "\n",
    "text_blocks = return_sections(text)"
   ]
  },
  {
   "cell_type": "markdown",
   "metadata": {},
   "source": [
    "## Head section\n",
    "\n",
    "indexes to trim are 24 and 25 which represent the terminal hydroxyl attached to the ethylene functional unit.\n",
    "\n",
    "For atoms, we can easily trim the 24 and 25. For the bonds, we will obtain a list with 2 entries per line. Check if 23, 24 or 25 is in either and remove that list if it it is present. For pairs, do the same. For angles, we will get a list with 3 entries and for dihedrals a list with 4 entries will be generated. Check for 23, 24 or 25 in each and remove as needed. "
   ]
  },
  {
   "cell_type": "code",
   "execution_count": 24,
   "metadata": {},
   "outputs": [],
   "source": [
    "idx_ls = [slice(0, 1), slice(0, 2), slice(0, 2), slice(0, 3), slice(0, 4)]\n",
    "nrs_2_delete = [24, 25]\n",
    "\n",
    "head_dict = {}\n",
    "\n",
    "category = 0\n",
    "for key in text_blocks.keys():\n",
    "    curr_text = text_blocks[key]\n",
    "    ls = curr_text.split('\\n')\n",
    "    new_ls = []\n",
    "    for i, l in enumerate(ls):\n",
    "        curr_ls = l.split()\n",
    "        if len(curr_ls) > 0:\n",
    "            if curr_ls[0].isdigit():\n",
    "                nrs = curr_ls[idx_ls[category]]\n",
    "                nrs = [int(nr) for nr in nrs]\n",
    "                cond = [idx in nrs for idx in nrs_2_delete]\n",
    "                if True in cond:\n",
    "                    continue\n",
    "                else:\n",
    "                    new_ls.append(l)\n",
    "            else:\n",
    "                new_ls.append(l)\n",
    "    category += 1\n",
    "    head_dict[key] = \"\\n\".join(new_ls)"
   ]
  },
  {
   "cell_type": "code",
   "execution_count": 25,
   "metadata": {},
   "outputs": [],
   "source": [
    "head_text_str = \"\"\n",
    "\n",
    "for key in head_dict.keys():\n",
    "    head_text_str += head_dict[key]\n",
    "    head_text_str += \"\\n\\n\""
   ]
  },
  {
   "cell_type": "code",
   "execution_count": 26,
   "metadata": {},
   "outputs": [],
   "source": [
    "head_text = open(\"top_files/head_section.itp\", \"w\")\n",
    "\n",
    "head_text.write('''#include \"./oplsaa.ff/forcefield.itp\"\\n\\n''')\n",
    "head_text.write('''[ moleculetype ]\\n; Name               nrexcl\\nPET                   3     \\n\\n''')\n",
    "head_text.write(head_text_str)\n",
    "\n",
    "head_text.write('''\\n; Include water topology\\n#include \"./oplsaa.ff/spc.itp\"\\n[ system ]\\n; Name\\n;test_PET\\n[ molecules ]\\nPET    \t\t1 ''')\n",
    "head_text.close()"
   ]
  },
  {
   "cell_type": "markdown",
   "metadata": {},
   "source": [
    "## Monomer section\n",
    "\n",
    "indexes to trim are 23, 24 and 25 which represent the terminal hydrogens and oxygens. \n",
    "\n",
    "For atoms, we can easily trim the 23, 24 and 25. For the bonds, we will obtain a list with 2 entries per line. Check if 23, 24 or 25 is in either and remove that list if it it is present. For pairs, do the same. For angles, we will get a list with 3 entries and for dihedrals a list with 4 entries will be generated. Check for 23, 24 or 25 in each and remove as needed. "
   ]
  },
  {
   "cell_type": "code",
   "execution_count": 33,
   "metadata": {},
   "outputs": [],
   "source": [
    "idx_ls = [slice(0, 1), slice(0, 2), slice(0, 2), slice(0, 3), slice(0, 4)]\n",
    "nrs_2_delete = [23, 24, 25]\n",
    "\n",
    "monomer_dict = {}\n",
    "\n",
    "category = 0\n",
    "for key in text_blocks.keys():\n",
    "    curr_text = text_blocks[key]\n",
    "    ls = curr_text.split('\\n')\n",
    "    new_ls = []\n",
    "    for i, l in enumerate(ls):\n",
    "        curr_ls = l.split()\n",
    "        if len(curr_ls) > 0:\n",
    "            if curr_ls[0].isdigit():\n",
    "                nrs = curr_ls[idx_ls[category]]\n",
    "                nrs = [int(nr) for nr in nrs]\n",
    "                cond = [idx in nrs for idx in nrs_2_delete]\n",
    "                if True in cond:\n",
    "                    continue\n",
    "                else:\n",
    "                    new_ls.append(l)\n",
    "            else:\n",
    "                new_ls.append(l)\n",
    "    category += 1\n",
    "    monomer_dict[key] = \"\\n\".join(new_ls)"
   ]
  },
  {
   "cell_type": "code",
   "execution_count": 34,
   "metadata": {},
   "outputs": [],
   "source": [
    "monomer_text_str = \"\"\n",
    "\n",
    "for key in monomer_dict.keys():\n",
    "    monomer_text_str += monomer_dict[key]\n",
    "    monomer_text_str += \"\\n\\n\""
   ]
  },
  {
   "cell_type": "code",
   "execution_count": 35,
   "metadata": {},
   "outputs": [],
   "source": [
    "monomer_text = open(\"top_files/monomer_section.itp\", \"w\")\n",
    "\n",
    "monomer_text.write('''#include \"./oplsaa.ff/forcefield.itp\"\\n\\n''')\n",
    "monomer_text.write('''[ moleculetype ]\\n; Name               nrexcl\\nPET                   3     \\n\\n''')\n",
    "monomer_text.write(monomer_text_str)\n",
    "\n",
    "monomer_text.write('''\\n; Include water topology\\n#include \"./oplsaa.ff/spc.itp\"\\n[ system ]\\n; Name\\n;test_PET\\n[ molecules ]\\nPET    \t\t1 ''')\n",
    "monomer_text.close()"
   ]
  },
  {
   "cell_type": "markdown",
   "metadata": {},
   "source": [
    "A test trimer PET was developed to see the bonds, charges, pairs, angles and dihedrals."
   ]
  },
  {
   "cell_type": "markdown",
   "metadata": {},
   "source": [
    "## Tail section (OH terminus)\n",
    "\n",
    "Deleting all entries containing 23"
   ]
  },
  {
   "cell_type": "code",
   "execution_count": 36,
   "metadata": {},
   "outputs": [],
   "source": [
    "idx_ls = [slice(0, 1), slice(0, 2), slice(0, 2), slice(0, 3), slice(0, 4)]\n",
    "nrs_2_delete = [23]\n",
    "\n",
    "tail_dict = {}\n",
    "\n",
    "category = 0\n",
    "for key in text_blocks.keys():\n",
    "    curr_text = text_blocks[key]\n",
    "    ls = curr_text.split('\\n')\n",
    "    new_ls = []\n",
    "    for i, l in enumerate(ls):\n",
    "        curr_ls = l.split()\n",
    "        if len(curr_ls) > 0:\n",
    "            if curr_ls[0].isdigit():\n",
    "                nrs = curr_ls[idx_ls[category]]\n",
    "                nrs = [int(nr) for nr in nrs]\n",
    "                cond = [idx in nrs for idx in nrs_2_delete]\n",
    "                if True in cond:\n",
    "                    continue\n",
    "                else:\n",
    "                    \n",
    "                    new_ls.append(l)\n",
    "            else:\n",
    "                new_ls.append(l)\n",
    "    category += 1\n",
    "    tail_dict[key] = \"\\n\".join(new_ls)"
   ]
  },
  {
   "cell_type": "code",
   "execution_count": 37,
   "metadata": {},
   "outputs": [],
   "source": [
    "tail_text_str = \"\"\n",
    "\n",
    "for key in monomer_dict.keys():\n",
    "    tail_text_str += tail_dict[key]\n",
    "    tail_text_str += \"\\n\\n\""
   ]
  },
  {
   "cell_type": "code",
   "execution_count": 39,
   "metadata": {},
   "outputs": [],
   "source": [
    "tail_text = open(\"top_files/tail_section.itp\", \"w\")\n",
    "\n",
    "tail_text.write('''#include \"./oplsaa.ff/forcefield.itp\"\\n\\n''')\n",
    "tail_text.write('''[ moleculetype ]\\n; Name               nrexcl\\nPET                   3     \\n\\n''')\n",
    "tail_text.write(tail_text_str)\n",
    "\n",
    "tail_text.write('''\\n; Include water topology\\n#include \"./oplsaa.ff/spc.itp\"\\n[ system ]\\n; Name\\n;test_PET\\n[ molecules ]\\nPET    \t\t1 ''')\n",
    "tail_text.close()"
   ]
  },
  {
   "cell_type": "markdown",
   "metadata": {},
   "source": [
    "# Building a trimer\n",
    "\n",
    "End 1 + 1 monomer + end2"
   ]
  },
  {
   "cell_type": "code",
   "execution_count": 19,
   "metadata": {},
   "outputs": [
    {
     "name": "stdout",
     "output_type": "stream",
     "text": [
      "23 atoms in end 1(Hydroxyl side)\n"
     ]
    },
    {
     "data": {
      "text/plain": [
       "{'16': '15',\n",
       " '17': '38',\n",
       " '18': '39',\n",
       " '19': '40',\n",
       " '20': '41',\n",
       " '21': '42',\n",
       " '22': '43',\n",
       " '23': '44',\n",
       " '24': '45',\n",
       " '1': '24',\n",
       " '2': '25',\n",
       " '3': '26',\n",
       " '4': '27',\n",
       " '5': '28',\n",
       " '6': '29',\n",
       " '7': '30',\n",
       " '8': '31',\n",
       " '9': '32',\n",
       " '10': '33',\n",
       " '11': '34',\n",
       " '12': '35',\n",
       " '13': '36',\n",
       " '14': '37'}"
      ]
     },
     "execution_count": 19,
     "metadata": {},
     "output_type": "execute_result"
    }
   ],
   "source": [
    "count = 1\n",
    "\n",
    "d_map = {} # nr is not correct when copying from the text file\n",
    "\n",
    "for l in end1:\n",
    "    nr = str(count)\n",
    "    if l[0] != nr:\n",
    "        d_map[l[0]] = nr\n",
    "    output_top.append(l)\n",
    "    count += 1\n",
    "\n",
    "print(f\"{count - 1} atoms in end 1(Hydroxyl side)\")\n",
    "\n",
    "for n in range(Nseg):\n",
    "    for l in monomer:\n",
    "        nr = str(count)\n",
    "        if l[0] != nr:\n",
    "            d_map[l[0]] = nr\n",
    "        output_top.append(l)\n",
    "        count += 1\n",
    "    \n",
    "d_map\n",
    "# count"
   ]
  },
  {
   "cell_type": "code",
   "execution_count": null,
   "metadata": {},
   "outputs": [],
   "source": []
  }
 ],
 "metadata": {
  "kernelspec": {
   "display_name": "Python 3",
   "language": "python",
   "name": "python3"
  },
  "language_info": {
   "codemirror_mode": {
    "name": "ipython",
    "version": 3
   },
   "file_extension": ".py",
   "mimetype": "text/x-python",
   "name": "python",
   "nbconvert_exporter": "python",
   "pygments_lexer": "ipython3",
   "version": "3.10.12"
  }
 },
 "nbformat": 4,
 "nbformat_minor": 2
}

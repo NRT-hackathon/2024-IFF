{
 "cells": [
  {
   "cell_type": "markdown",
   "metadata": {},
   "source": [
    "# Polymer generation in ligpargen"
   ]
  },
  {
   "cell_type": "markdown",
   "metadata": {},
   "source": [
    "I used `O=C(O)c1cccc(C(=O)CCO)c1`, a smiles string of the PET monomer in ligpargen to create the opls-AA representation of the PET monomer. I then corrected the opls_aa type assignments. Note for each generated molecule, the structure will be different. Thus care needs to be taken when generalizing these results for all PET's generated in ligpargen. The results and FF modifications only work for this molecule"
   ]
  },
  {
   "cell_type": "markdown",
   "metadata": {},
   "source": [
    "Default setup has a net charge of -0.0001. I modified the species with the most negative charge by adding 0.0001 to the charge on that species to get it neutral. This turned out to be the terminal H terminus oxygen which I changed from -0.5556 to -0.5555. To test out how this works, I then ran a simulation of PET monomer in water.\n",
    "\n",
    "I did only the energy minimization step with spc water with 3 PET monomers in a 5nm box. Presented below is a snapshot at the final timestep"
   ]
  },
  {
   "cell_type": "markdown",
   "metadata": {},
   "source": [
    "![PET monomer in 5nm box](test_PET_monomer_ligpargen.png)"
   ]
  },
  {
   "cell_type": "markdown",
   "metadata": {},
   "source": [
    "Next thing I did was I added the PET monomer specifications to the opls_aa forcefield. This was done by following the instructions [here](https://manual.gromacs.org/current/how-to/topology.html). \n",
    "\n",
    "First, I modified the `aminoacids.rtp` file with the appropriate atom identities and bonds. I then modified the `ffbonded.itp` to include the dihedrals of the benzene ring labelled `improper_CAR_HAR`. The ester linkage is already present and labelled `define improper_O_C_X_Y`. \n",
    "\n",
    "Next, the following command was run: `gmx pdb2gmx -f PET.gro` to convert the `.gro` file to a topology file with format `.top`. The converted PET monomer is shown below to demonstrate that the conversion does indeed work"
   ]
  },
  {
   "cell_type": "markdown",
   "metadata": {},
   "source": [
    "![Single PET monomer after conversion](pdb2gmx_test.png)"
   ]
  },
  {
   "cell_type": "markdown",
   "metadata": {},
   "source": [
    "Some issues can be seen such as the non flat nature of the ester linkage on the H terminus side. During energy minimization that should be removed as the improper dihedral is specified correctly in `topol.top` which is created using `pdb2gmx`\n",
    "\n",
    "I then created the `make_polymer.py` file which takes the exact `PET.gro` file in this subfolder and extends the chain to however many monomeric units desired."
   ]
  },
  {
   "cell_type": "code",
   "execution_count": 157,
   "metadata": {},
   "outputs": [],
   "source": [
    "!python3 make_polymer.py 3"
   ]
  },
  {
   "cell_type": "code",
   "execution_count": null,
   "metadata": {},
   "outputs": [],
   "source": []
  }
 ],
 "metadata": {
  "kernelspec": {
   "display_name": "Python 3",
   "language": "python",
   "name": "python3"
  },
  "language_info": {
   "codemirror_mode": {
    "name": "ipython",
    "version": 3
   },
   "file_extension": ".py",
   "mimetype": "text/x-python",
   "name": "python",
   "nbconvert_exporter": "python",
   "pygments_lexer": "ipython3",
   "version": "3.10.12"
  }
 },
 "nbformat": 4,
 "nbformat_minor": 2
}
